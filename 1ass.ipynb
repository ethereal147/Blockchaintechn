{
  "nbformat": 4,
  "nbformat_minor": 0,
  "metadata": {
    "colab": {
      "provenance": [],
      "authorship_tag": "ABX9TyMMtarxxwuk6vLSjdZ59xUu",
      "include_colab_link": true
    },
    "kernelspec": {
      "name": "python3",
      "display_name": "Python 3"
    },
    "language_info": {
      "name": "python"
    }
  },
  "cells": [
    {
      "cell_type": "markdown",
      "metadata": {
        "id": "view-in-github",
        "colab_type": "text"
      },
      "source": [
        "<a href=\"https://colab.research.google.com/github/ethereal147/Blockchaintechn/blob/main/1ass.ipynb\" target=\"_parent\"><img src=\"https://colab.research.google.com/assets/colab-badge.svg\" alt=\"Open In Colab\"/></a>"
      ]
    },
    {
      "cell_type": "code",
      "execution_count": 65,
      "metadata": {
        "id": "zrFUclRd5aw9"
      },
      "outputs": [],
      "source": [
        "#Implementation of blockchain"
      ]
    },
    {
      "cell_type": "code",
      "source": [
        "import hashlib"
      ],
      "metadata": {
        "id": "UpuvPCT-5gfs"
      },
      "execution_count": 66,
      "outputs": []
    },
    {
      "cell_type": "code",
      "source": [
        "#Create a block class\n",
        "class Block:\n",
        "  #Create constructor for the Block class\n",
        "\n",
        "  def calc_hash(self):\n",
        "    sha = hashlib.sha256()\n",
        "    sha.update(self.data.encode('utf-8'))\n",
        "    return sha.hexdigest()\n",
        "  def __init__(self, data, prev_hash):\n",
        "    self.data = data\n",
        "    self.prev_hash = prev_hash\n",
        "    self.hash = self.calc_hash()\n",
        "\n",
        "    # Create a method that calculates the has using SHA-256\n",
        "    def calc_hash(self):\n",
        "      sha = hashlib.sha256()\n",
        "      sha.update(self.data.encode('utf-8'))\n",
        "      return sha.hexdigest()\n",
        "\n",
        ""
      ],
      "metadata": {
        "id": "2It32pgY7G8i"
      },
      "execution_count": 107,
      "outputs": []
    },
    {
      "cell_type": "code",
      "source": [],
      "metadata": {
        "id": "v4APeYSgMd5E"
      },
      "execution_count": null,
      "outputs": []
    },
    {
      "cell_type": "code",
      "source": [
        "#Create the Blockchain class\n",
        "class Blockchain:\n",
        "#Create a method that creates a new block and adds it to the block cxhain(add blocks to the list)\n",
        "  def add_block(self, data):\n",
        "   prev_block = self.chain[-1]\n",
        "   new_block = Block (data, prev_block.hash)\n",
        "   self.chain.append(new_block)\n",
        "\n",
        "   #Create a method that creates the first block in the blokchain (Genesis block)\n",
        "\n",
        "  def create_genesis_block(self):\n",
        "    return Block(\"Genesis Block\", \"0\")\n",
        "  #Create a constructor for the Blockchain class\n",
        "  def __init__(self):\n",
        "    self.chain = [self.create_genesis_block()]\n",
        "\n",
        ""
      ],
      "metadata": {
        "id": "15eE9FmD8tZU"
      },
      "execution_count": 108,
      "outputs": []
    },
    {
      "cell_type": "code",
      "source": [
        "#Test the blockchain ( initialization of the blockchain)\n",
        "blockchain = Blockchain()"
      ],
      "metadata": {
        "id": "wbq2isiuGuFx"
      },
      "execution_count": 109,
      "outputs": []
    },
    {
      "cell_type": "code",
      "source": [
        "blockchain.add_block('First block')\n",
        "blockchain.add_block('Second block')\n",
        "blockchain.add_block('Third block')"
      ],
      "metadata": {
        "id": "kYa33cxZIi_b"
      },
      "execution_count": 110,
      "outputs": []
    },
    {
      "cell_type": "code",
      "source": [
        "print ('Blockchain:')\n",
        "for block in blockchain.chain:\n",
        "  print('Data:',block.data)\n",
        "  print('Previous hash:', block.prev_hash)\n",
        "  print('Hash:', block.hash)\n",
        "  print()"
      ],
      "metadata": {
        "colab": {
          "base_uri": "https://localhost:8080/"
        },
        "id": "x03CbkdgNCWd",
        "outputId": "d601b796-8c12-42b1-b80a-cc3dc0e3e498"
      },
      "execution_count": 114,
      "outputs": [
        {
          "output_type": "stream",
          "name": "stdout",
          "text": [
            "Blockchain:\n",
            "Data: Genesis Block\n",
            "Previous hash: 0\n",
            "Hash: 89eb0ac031a63d2421cd05a2fbe41f3ea35f5c3712ca839cbf6b85c4ee07b7a3\n",
            "\n",
            "Data: First block\n",
            "Previous hash: 89eb0ac031a63d2421cd05a2fbe41f3ea35f5c3712ca839cbf6b85c4ee07b7a3\n",
            "Hash: 876fb923a443ba6afe5fb32dd79961e85be2b582cf74c233842b630ae16fe4d9\n",
            "\n",
            "Data: Second block\n",
            "Previous hash: 876fb923a443ba6afe5fb32dd79961e85be2b582cf74c233842b630ae16fe4d9\n",
            "Hash: 8e2fb9e02898feb024dff05ee0b27fd5ea0a448e252d975e6ec5f7b0a252a6cd\n",
            "\n",
            "Data: Third block\n",
            "Previous hash: 8e2fb9e02898feb024dff05ee0b27fd5ea0a448e252d975e6ec5f7b0a252a6cd\n",
            "Hash: 06e369fbfbe5362a8115a5c6f3e2d3ec7292cc4272052dcc3280898e3206208d\n",
            "\n"
          ]
        }
      ]
    },
    {
      "cell_type": "code",
      "source": [
        "import hashlib\n",
        "\n",
        "def build_merkle_tree(transactions):\n",
        "    if len(transactions) == 0:\n",
        "        return None\n",
        "\n",
        "    # Helper function to calculate the hash of a pair of values\n",
        "    def hash_pair(a, b):\n",
        "        data = a + b\n",
        "        return hashlib.sha256(data.encode()).hexdigest()\n",
        "\n",
        "    # Initialize the list to store intermediate hashes\n",
        "    merkle_tree = []\n",
        "\n",
        "    # Hash each transaction and add it to the Merkle tree\n",
        "    for tx in transactions:\n",
        "        merkle_tree.append(hashlib.sha256(tx.encode()).hexdigest())\n",
        "\n",
        "    # Iterate to build the Merkle tree\n",
        "    while len(merkle_tree) > 1:\n",
        "        new_merkle_tree = []\n",
        "        for i in range(0, len(merkle_tree), 2):\n",
        "            if i + 1 < len(merkle_tree):\n",
        "                new_merkle_tree.append(hash_pair(merkle_tree[i], merkle_tree[i + 1]))\n",
        "            else:\n",
        "                # If there's an odd number of nodes, hash the last node with itself\n",
        "                new_merkle_tree.append(hash_pair(merkle_tree[i], merkle_tree[i]))\n",
        "        merkle_tree = new_merkle_tree\n",
        "\n",
        "    return merkle_tree[0]  # The root of the Merkle tree\n",
        "\n",
        "# Example usage\n",
        "transactions = [\"Tx1\", \"Tx2\", \"Tx3\", \"Tx4\"]\n",
        "merkle_root = build_merkle_tree(transactions)\n",
        "print(\"Merkle Root:\", merkle_root)\n"
      ],
      "metadata": {
        "colab": {
          "base_uri": "https://localhost:8080/"
        },
        "id": "j3CxTaUkMfR8",
        "outputId": "954b38e8-4c67-481b-e951-8ee92f9e747d"
      },
      "execution_count": 112,
      "outputs": [
        {
          "output_type": "stream",
          "name": "stdout",
          "text": [
            "Merkle Root: 5b260dbcbff182d10cdbd21d8cb9e4446fe71820bb91c8dced8dcfd0e8a9c8ac\n"
          ]
        }
      ]
    },
    {
      "cell_type": "code",
      "source": [
        "import hashlib\n",
        "import json\n",
        "\n",
        "# Define the Block class\n",
        "class Block:\n",
        "    def __init__(self, index, previous_hash, timestamp, data, nonce=0):\n",
        "        self.index = index\n",
        "        self.previous_hash = previous_hash\n",
        "        self.timestamp = timestamp\n",
        "        self.data = data\n",
        "        self.nonce = nonce\n",
        "        self.hash = self.calculate_hash()\n",
        "\n",
        "    def calculate_hash(self):\n",
        "        block_data = {\n",
        "            \"index\": self.index,\n",
        "            \"previous_hash\": self.previous_hash,\n",
        "            \"timestamp\": self.timestamp,\n",
        "            \"data\": self.data,\n",
        "            \"nonce\": self.nonce,\n",
        "        }\n",
        "        return hashlib.sha256(json.dumps(block_data, sort_keys=True).encode()).hexdigest()\n",
        "\n",
        "# Create a function to validate a block\n",
        "def is_valid_block(block, previous_block):\n",
        "    # Check if the block's index is one greater than the previous block\n",
        "    if block.index != previous_block.index + 1:\n",
        "        return False\n",
        "\n",
        "    # Check if the previous_hash in the block matches the hash of the previous block\n",
        "    if block.previous_hash != previous_block.hash:\n",
        "        return False\n",
        "\n",
        "    # Check if the hash of the block is valid (satisfies the difficulty criteria)\n",
        "    if not is_valid_hash(block.hash):\n",
        "        return False\n",
        "\n",
        "    return True\n",
        "\n",
        "# Define a function to validate the hash of a block\n",
        "def is_valid_hash(hash):\n",
        "    # You can define your own criteria for a valid hash\n",
        "    # In a real blockchain, this would involve checking for a certain number of leading zeros (proof of work)\n",
        "    return hash.startswith(\"0000\")  # For simplicity, we use a prefix of four zeros here\n",
        "\n",
        "# Example usage\n",
        "if __name__ == \"__main__\":\n",
        "    # Create two example blocks\n",
        "    genesis_block = Block(0, \"0\", 1632523200, \"Genesis Block\")\n",
        "    second_block = Block(1, genesis_block.hash, 1632523300, \"Transaction Data\")\n",
        "\n",
        "    # Check if the second block is valid\n",
        "    if is_valid_block(second_block, genesis_block):\n",
        "        print(\"Second block is valid.\")\n",
        "    else:\n",
        "        print(\"Second block is not valid.\")\n"
      ],
      "metadata": {
        "colab": {
          "base_uri": "https://localhost:8080/"
        },
        "id": "Uzt_2hk1M2W-",
        "outputId": "82c2a6ec-cce8-45aa-c44b-ec6acec9ee27"
      },
      "execution_count": 113,
      "outputs": [
        {
          "output_type": "stream",
          "name": "stdout",
          "text": [
            "Second block is not valid.\n"
          ]
        }
      ]
    },
    {
      "cell_type": "code",
      "source": [
        "print ('Blockchain:')\n",
        "for block in blockchain.chain:\n",
        "  print('Data:',block.data)\n",
        "  print('Previous hash:', block.prev_hash)\n",
        "  print('Hash:', block.hash)\n",
        "  print()"
      ],
      "metadata": {
        "colab": {
          "base_uri": "https://localhost:8080/"
        },
        "id": "F5ulCiZVJokV",
        "outputId": "06c6e354-b7f6-4dd5-87d8-841022f92330"
      },
      "execution_count": 111,
      "outputs": [
        {
          "output_type": "stream",
          "name": "stdout",
          "text": [
            "Blockchain:\n",
            "Data: Genesis Block\n",
            "Previous hash: 0\n",
            "Hash: 89eb0ac031a63d2421cd05a2fbe41f3ea35f5c3712ca839cbf6b85c4ee07b7a3\n",
            "\n",
            "Data: First block\n",
            "Previous hash: 89eb0ac031a63d2421cd05a2fbe41f3ea35f5c3712ca839cbf6b85c4ee07b7a3\n",
            "Hash: 876fb923a443ba6afe5fb32dd79961e85be2b582cf74c233842b630ae16fe4d9\n",
            "\n",
            "Data: Second block\n",
            "Previous hash: 876fb923a443ba6afe5fb32dd79961e85be2b582cf74c233842b630ae16fe4d9\n",
            "Hash: 8e2fb9e02898feb024dff05ee0b27fd5ea0a448e252d975e6ec5f7b0a252a6cd\n",
            "\n",
            "Data: Third block\n",
            "Previous hash: 8e2fb9e02898feb024dff05ee0b27fd5ea0a448e252d975e6ec5f7b0a252a6cd\n",
            "Hash: 06e369fbfbe5362a8115a5c6f3e2d3ec7292cc4272052dcc3280898e3206208d\n",
            "\n"
          ]
        }
      ]
    },
    {
      "cell_type": "code",
      "source": [],
      "metadata": {
        "id": "jf8qugtdKCvz"
      },
      "execution_count": null,
      "outputs": []
    }
  ]
}